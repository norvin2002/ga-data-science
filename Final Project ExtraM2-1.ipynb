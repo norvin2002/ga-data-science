{
 "cells": [
  {
   "cell_type": "markdown",
   "metadata": {},
   "source": [
    "## Import Libraries"
   ]
  },
  {
   "cell_type": "code",
   "execution_count": 1,
   "metadata": {},
   "outputs": [
    {
     "name": "stderr",
     "output_type": "stream",
     "text": [
      "C:\\ProgramData\\Anaconda2\\lib\\site-packages\\statsmodels\\compat\\pandas.py:56: FutureWarning: The pandas.core.datetools module is deprecated and will be removed in a future version. Please use the pandas.tseries module instead.\n",
      "  from pandas.core import datetools\n"
     ]
    }
   ],
   "source": [
    "import pandas as pd\n",
    "import numpy as np\n",
    "import matplotlib.pyplot as plt\n",
    "import seaborn as sns\n",
    "import statsmodels.api as sm\n",
    "import statsmodels.formula.api as smf\n",
    "from sklearn import datasets, metrics\n",
    "from sklearn import model_selection\n",
    "from sklearn import linear_model, tree, ensemble, neighbors\n",
    "from sklearn.preprocessing import StandardScaler\n",
    "from sklearn.model_selection import train_test_split\n",
    "from sklearn.neighbors import KNeighborsClassifier\n",
    "from sklearn.model_selection import KFold\n",
    "plt.style.use('fivethirtyeight')\n",
    "%matplotlib inline"
   ]
  },
  {
   "cell_type": "code",
   "execution_count": 2,
   "metadata": {
    "collapsed": true
   },
   "outputs": [],
   "source": [
    "plt.rcParams[\"figure.figsize\"] = [10,5]"
   ]
  },
  {
   "cell_type": "markdown",
   "metadata": {},
   "source": [
    "## Executive Summary"
   ]
  },
  {
   "cell_type": "markdown",
   "metadata": {
    "collapsed": true
   },
   "source": [
    "Using the survey data completed by female respondents on their marriage happiness, family and amount of time spent on extramarital affair, we will analyse the factors prevalent among respondents who commit extramarital affair.\n",
    "\n",
    "We will do exploratory analysis on relationship between factors and visualize it to gauge which factors are likely to contribute to predicting the occurrence of extramarital affair.\n",
    "\n",
    "We will then use machine learning methods to build models and attempt to predict whether a married female is likely to commit extramarital affair given information on the factors. Thereafter we will look at importance of each factor and also the coefficient from logistic regression model to see which factors are most important in predicting the occurrence of extramarital affair. Our models will be scored across various metrics including accuracy, precision, recall, ROC curve.\n",
    "\n",
    "Finally we will attempt to improve our models to see if we can have better accuracy in prediction."
   ]
  },
  {
   "cell_type": "markdown",
   "metadata": {},
   "source": [
    "## Problem Statement"
   ]
  },
  {
   "cell_type": "markdown",
   "metadata": {},
   "source": [
    "Using the responses gathered from married females, we will build a model to predict whether or not an individual will commit extramarital affair based on her profile. We will also try to find determining features among those who commit extramarital affair"
   ]
  },
  {
   "cell_type": "markdown",
   "metadata": {},
   "source": [
    "## Dataset"
   ]
  },
  {
   "cell_type": "code",
   "execution_count": 3,
   "metadata": {},
   "outputs": [
    {
     "data": {
      "text/plain": [
       "<module 'statsmodels.datasets' from 'C:\\ProgramData\\Anaconda2\\lib\\site-packages\\statsmodels\\datasets\\__init__.pyc'>"
      ]
     },
     "execution_count": 3,
     "metadata": {},
     "output_type": "execute_result"
    }
   ],
   "source": [
    "sm.datasets"
   ]
  },
  {
   "cell_type": "code",
   "execution_count": 4,
   "metadata": {
    "collapsed": true
   },
   "outputs": [],
   "source": [
    "affair=sm.datasets.fair.load()"
   ]
  },
  {
   "cell_type": "code",
   "execution_count": 5,
   "metadata": {},
   "outputs": [
    {
     "data": {
      "text/plain": [
       "rec.array([( 3.,  32.,   9. ,  3.,  3.,  17.,  2.,  5.,  0.1111111),\n",
       "           ( 3.,  27.,  13. ,  3.,  1.,  14.,  3.,  4.,  3.2307692),\n",
       "           ( 4.,  22.,   2.5,  0.,  1.,  16.,  3.,  5.,  1.3999996), ...,\n",
       "           ( 5.,  22.,   2.5,  0.,  2.,  14.,  3.,  1.,  0.       ),\n",
       "           ( 5.,  32.,   6. ,  1.,  3.,  14.,  3.,  4.,  0.       ),\n",
       "           ( 4.,  22.,   2.5,  0.,  2.,  16.,  2.,  4.,  0.       )], \n",
       "          dtype=[('rate_marriage', '<f8'), ('age', '<f8'), ('yrs_married', '<f8'), ('children', '<f8'), ('religious', '<f8'), ('educ', '<f8'), ('occupation', '<f8'), ('occupation_husb', '<f8'), ('affairs', '<f8')])"
      ]
     },
     "execution_count": 5,
     "metadata": {},
     "output_type": "execute_result"
    }
   ],
   "source": [
    "affair.data"
   ]
  },
  {
   "cell_type": "code",
   "execution_count": 6,
   "metadata": {
    "collapsed": true
   },
   "outputs": [],
   "source": [
    "df=pd.DataFrame(affair.data)"
   ]
  },
  {
   "cell_type": "markdown",
   "metadata": {},
   "source": [
    "Dataset is obtained from Statsmodel dataset<br>\n",
    "It contains responses on marriage happiness and extramarital affair survey published in Yale Journal of Political Economy.<br>\n",
    "Survey conducted on female only"
   ]
  },
  {
   "cell_type": "markdown",
   "metadata": {},
   "source": [
    "Dictionary for dataset is as follows:"
   ]
  },
  {
   "cell_type": "markdown",
   "metadata": {},
   "source": [
    "**Column**|**Type**|**Description**|**Key**\n",
    ":-----:|:-----:|:-----:|:-----:\n",
    "rate_marriage|Integer|How happy is the marriage|1=very poor, 2=poor, 3=fair, 4=good, 5=very good\n",
    "age|Integer|Age|\n",
    "yrs_married|Integer|No. years married. Interval approximations|\n",
    "children|Integer|Number of children|\n",
    "religious|Integer|How religious|1 = not, 2 = mildly, 3 = fairly, 4 = strongly\n",
    "educ|Integer|Level of education|9=grade school, 12 = high school, 14=some college, 16=college graduate, 17=some graduate school, 20 = advanced degree\n",
    "occupation|Integer|Occupation|1 = student, 2 = farming, agriculture; semi-skilled, or unskilled worker; 3 = white-colloar; 4 = teacher counselor social worker, nurse; artist, writers; technician, skilled worker, 5 = managerial, administrative, business, 6 = professional with advanced degree\n",
    "occupation_husb|Integer|Husband's Occupation|1 = student, 2 = farming, agriculture; semi-skilled, or unskilled worker; 3 = white-colloar; 4 = teacher counselor social worker, nurse; artist, writers; technician, skilled worker, 5 = managerial, administrative, business, 6 = professional with advanced degree\n",
    "affairs|Integer|Measure of time spent in extramarital affair|Shown as a fraction of 1"
   ]
  },
  {
   "cell_type": "markdown",
   "metadata": {},
   "source": [
    "## Risk and Assumptions"
   ]
  },
  {
   "cell_type": "markdown",
   "metadata": {},
   "source": [
    " - Assumptions:\n",
    " >  - Data is accurately recorded\n",
    " >  - Respondents are honest\n",
    " \n",
    " - Risks:\n",
    " >  - Respondent is not representative of the society\n",
    " >  - inaccurate response"
   ]
  },
  {
   "cell_type": "markdown",
   "metadata": {},
   "source": [
    "## Hypothesis"
   ]
  },
  {
   "cell_type": "markdown",
   "metadata": {},
   "source": [
    "Null hypothesis, $H_0$: There is no relationship between a person's marriage happiness and his/her tendency of having extramarital affair <br>\n",
    "Alternative hypothesis, $H_1$: Married individuals who are not happy with their marriage have higher tendency of committing extramarital affair"
   ]
  },
  {
   "cell_type": "markdown",
   "metadata": {},
   "source": [
    "## Success Metrics"
   ]
  },
  {
   "cell_type": "markdown",
   "metadata": {},
   "source": [
    "Ability to predict probability of extramarital affair given a profile"
   ]
  },
  {
   "cell_type": "markdown",
   "metadata": {},
   "source": []
  },
  {
   "cell_type": "markdown",
   "metadata": {},
   "source": [
    "## Exploratory Data Analysis"
   ]
  },
  {
   "cell_type": "code",
   "execution_count": 7,
   "metadata": {},
   "outputs": [
    {
     "data": {
      "text/plain": [
       "(6366, 9)"
      ]
     },
     "execution_count": 7,
     "metadata": {},
     "output_type": "execute_result"
    }
   ],
   "source": [
    "df.shape"
   ]
  },
  {
   "cell_type": "code",
   "execution_count": 8,
   "metadata": {},
   "outputs": [
    {
     "name": "stdout",
     "output_type": "stream",
     "text": [
      "<class 'pandas.core.frame.DataFrame'>\n",
      "RangeIndex: 6366 entries, 0 to 6365\n",
      "Data columns (total 9 columns):\n",
      "rate_marriage      6366 non-null float64\n",
      "age                6366 non-null float64\n",
      "yrs_married        6366 non-null float64\n",
      "children           6366 non-null float64\n",
      "religious          6366 non-null float64\n",
      "educ               6366 non-null float64\n",
      "occupation         6366 non-null float64\n",
      "occupation_husb    6366 non-null float64\n",
      "affairs            6366 non-null float64\n",
      "dtypes: float64(9)\n",
      "memory usage: 447.7 KB\n"
     ]
    }
   ],
   "source": [
    "df.info()"
   ]
  },
  {
   "cell_type": "code",
   "execution_count": 9,
   "metadata": {
    "collapsed": true
   },
   "outputs": [],
   "source": [
    "# convert some of the fields to int to allow get dummies naming without decimal\n",
    "df['rate_marriage']=df.rate_marriage.astype(int)\n",
    "df['occupation']=df.occupation.astype(int)\n",
    "df['occupation_husb']=df.occupation_husb.astype(int)\n",
    "df['religious']=df.religious.astype(int)"
   ]
  },
  {
   "cell_type": "markdown",
   "metadata": {},
   "source": [
    "There is no missing value in dataset"
   ]
  },
  {
   "cell_type": "code",
   "execution_count": 10,
   "metadata": {},
   "outputs": [
    {
     "data": {
      "text/html": [
       "<div>\n",
       "<style>\n",
       "    .dataframe thead tr:only-child th {\n",
       "        text-align: right;\n",
       "    }\n",
       "\n",
       "    .dataframe thead th {\n",
       "        text-align: left;\n",
       "    }\n",
       "\n",
       "    .dataframe tbody tr th {\n",
       "        vertical-align: top;\n",
       "    }\n",
       "</style>\n",
       "<table border=\"1\" class=\"dataframe\">\n",
       "  <thead>\n",
       "    <tr style=\"text-align: right;\">\n",
       "      <th></th>\n",
       "      <th>rate_marriage</th>\n",
       "      <th>age</th>\n",
       "      <th>yrs_married</th>\n",
       "      <th>children</th>\n",
       "      <th>religious</th>\n",
       "      <th>educ</th>\n",
       "      <th>occupation</th>\n",
       "      <th>occupation_husb</th>\n",
       "      <th>affairs</th>\n",
       "    </tr>\n",
       "  </thead>\n",
       "  <tbody>\n",
       "    <tr>\n",
       "      <th>0</th>\n",
       "      <td>3</td>\n",
       "      <td>32.0</td>\n",
       "      <td>9.0</td>\n",
       "      <td>3.0</td>\n",
       "      <td>3</td>\n",
       "      <td>17.0</td>\n",
       "      <td>2</td>\n",
       "      <td>5</td>\n",
       "      <td>0.111111</td>\n",
       "    </tr>\n",
       "    <tr>\n",
       "      <th>1</th>\n",
       "      <td>3</td>\n",
       "      <td>27.0</td>\n",
       "      <td>13.0</td>\n",
       "      <td>3.0</td>\n",
       "      <td>1</td>\n",
       "      <td>14.0</td>\n",
       "      <td>3</td>\n",
       "      <td>4</td>\n",
       "      <td>3.230769</td>\n",
       "    </tr>\n",
       "    <tr>\n",
       "      <th>2</th>\n",
       "      <td>4</td>\n",
       "      <td>22.0</td>\n",
       "      <td>2.5</td>\n",
       "      <td>0.0</td>\n",
       "      <td>1</td>\n",
       "      <td>16.0</td>\n",
       "      <td>3</td>\n",
       "      <td>5</td>\n",
       "      <td>1.400000</td>\n",
       "    </tr>\n",
       "    <tr>\n",
       "      <th>3</th>\n",
       "      <td>4</td>\n",
       "      <td>37.0</td>\n",
       "      <td>16.5</td>\n",
       "      <td>4.0</td>\n",
       "      <td>3</td>\n",
       "      <td>16.0</td>\n",
       "      <td>5</td>\n",
       "      <td>5</td>\n",
       "      <td>0.727273</td>\n",
       "    </tr>\n",
       "    <tr>\n",
       "      <th>4</th>\n",
       "      <td>5</td>\n",
       "      <td>27.0</td>\n",
       "      <td>9.0</td>\n",
       "      <td>1.0</td>\n",
       "      <td>1</td>\n",
       "      <td>14.0</td>\n",
       "      <td>3</td>\n",
       "      <td>4</td>\n",
       "      <td>4.666666</td>\n",
       "    </tr>\n",
       "  </tbody>\n",
       "</table>\n",
       "</div>"
      ],
      "text/plain": [
       "   rate_marriage   age  yrs_married  children  religious  educ  occupation  \\\n",
       "0              3  32.0          9.0       3.0          3  17.0           2   \n",
       "1              3  27.0         13.0       3.0          1  14.0           3   \n",
       "2              4  22.0          2.5       0.0          1  16.0           3   \n",
       "3              4  37.0         16.5       4.0          3  16.0           5   \n",
       "4              5  27.0          9.0       1.0          1  14.0           3   \n",
       "\n",
       "   occupation_husb   affairs  \n",
       "0                5  0.111111  \n",
       "1                4  3.230769  \n",
       "2                5  1.400000  \n",
       "3                5  0.727273  \n",
       "4                4  4.666666  "
      ]
     },
     "execution_count": 10,
     "metadata": {},
     "output_type": "execute_result"
    }
   ],
   "source": [
    "df.head()"
   ]
  },
  {
   "cell_type": "code",
   "execution_count": 11,
   "metadata": {
    "scrolled": true
   },
   "outputs": [
    {
     "data": {
      "text/html": [
       "<div>\n",
       "<style>\n",
       "    .dataframe thead tr:only-child th {\n",
       "        text-align: right;\n",
       "    }\n",
       "\n",
       "    .dataframe thead th {\n",
       "        text-align: left;\n",
       "    }\n",
       "\n",
       "    .dataframe tbody tr th {\n",
       "        vertical-align: top;\n",
       "    }\n",
       "</style>\n",
       "<table border=\"1\" class=\"dataframe\">\n",
       "  <thead>\n",
       "    <tr style=\"text-align: right;\">\n",
       "      <th></th>\n",
       "      <th>rate_marriage</th>\n",
       "      <th>age</th>\n",
       "      <th>yrs_married</th>\n",
       "      <th>children</th>\n",
       "      <th>religious</th>\n",
       "      <th>educ</th>\n",
       "      <th>occupation</th>\n",
       "      <th>occupation_husb</th>\n",
       "      <th>affairs</th>\n",
       "    </tr>\n",
       "  </thead>\n",
       "  <tbody>\n",
       "    <tr>\n",
       "      <th>count</th>\n",
       "      <td>6366.000000</td>\n",
       "      <td>6366.000000</td>\n",
       "      <td>6366.000000</td>\n",
       "      <td>6366.000000</td>\n",
       "      <td>6366.000000</td>\n",
       "      <td>6366.000000</td>\n",
       "      <td>6366.000000</td>\n",
       "      <td>6366.000000</td>\n",
       "      <td>6366.000000</td>\n",
       "    </tr>\n",
       "    <tr>\n",
       "      <th>mean</th>\n",
       "      <td>4.109645</td>\n",
       "      <td>29.082862</td>\n",
       "      <td>9.009425</td>\n",
       "      <td>1.396874</td>\n",
       "      <td>2.426170</td>\n",
       "      <td>14.209865</td>\n",
       "      <td>3.424128</td>\n",
       "      <td>3.850141</td>\n",
       "      <td>0.705374</td>\n",
       "    </tr>\n",
       "    <tr>\n",
       "      <th>std</th>\n",
       "      <td>0.961430</td>\n",
       "      <td>6.847882</td>\n",
       "      <td>7.280120</td>\n",
       "      <td>1.433471</td>\n",
       "      <td>0.878369</td>\n",
       "      <td>2.178003</td>\n",
       "      <td>0.942399</td>\n",
       "      <td>1.346435</td>\n",
       "      <td>2.203374</td>\n",
       "    </tr>\n",
       "    <tr>\n",
       "      <th>min</th>\n",
       "      <td>1.000000</td>\n",
       "      <td>17.500000</td>\n",
       "      <td>0.500000</td>\n",
       "      <td>0.000000</td>\n",
       "      <td>1.000000</td>\n",
       "      <td>9.000000</td>\n",
       "      <td>1.000000</td>\n",
       "      <td>1.000000</td>\n",
       "      <td>0.000000</td>\n",
       "    </tr>\n",
       "    <tr>\n",
       "      <th>25%</th>\n",
       "      <td>4.000000</td>\n",
       "      <td>22.000000</td>\n",
       "      <td>2.500000</td>\n",
       "      <td>0.000000</td>\n",
       "      <td>2.000000</td>\n",
       "      <td>12.000000</td>\n",
       "      <td>3.000000</td>\n",
       "      <td>3.000000</td>\n",
       "      <td>0.000000</td>\n",
       "    </tr>\n",
       "    <tr>\n",
       "      <th>50%</th>\n",
       "      <td>4.000000</td>\n",
       "      <td>27.000000</td>\n",
       "      <td>6.000000</td>\n",
       "      <td>1.000000</td>\n",
       "      <td>2.000000</td>\n",
       "      <td>14.000000</td>\n",
       "      <td>3.000000</td>\n",
       "      <td>4.000000</td>\n",
       "      <td>0.000000</td>\n",
       "    </tr>\n",
       "    <tr>\n",
       "      <th>75%</th>\n",
       "      <td>5.000000</td>\n",
       "      <td>32.000000</td>\n",
       "      <td>16.500000</td>\n",
       "      <td>2.000000</td>\n",
       "      <td>3.000000</td>\n",
       "      <td>16.000000</td>\n",
       "      <td>4.000000</td>\n",
       "      <td>5.000000</td>\n",
       "      <td>0.484848</td>\n",
       "    </tr>\n",
       "    <tr>\n",
       "      <th>max</th>\n",
       "      <td>5.000000</td>\n",
       "      <td>42.000000</td>\n",
       "      <td>23.000000</td>\n",
       "      <td>5.500000</td>\n",
       "      <td>4.000000</td>\n",
       "      <td>20.000000</td>\n",
       "      <td>6.000000</td>\n",
       "      <td>6.000000</td>\n",
       "      <td>57.599991</td>\n",
       "    </tr>\n",
       "  </tbody>\n",
       "</table>\n",
       "</div>"
      ],
      "text/plain": [
       "       rate_marriage          age  yrs_married     children    religious  \\\n",
       "count    6366.000000  6366.000000  6366.000000  6366.000000  6366.000000   \n",
       "mean        4.109645    29.082862     9.009425     1.396874     2.426170   \n",
       "std         0.961430     6.847882     7.280120     1.433471     0.878369   \n",
       "min         1.000000    17.500000     0.500000     0.000000     1.000000   \n",
       "25%         4.000000    22.000000     2.500000     0.000000     2.000000   \n",
       "50%         4.000000    27.000000     6.000000     1.000000     2.000000   \n",
       "75%         5.000000    32.000000    16.500000     2.000000     3.000000   \n",
       "max         5.000000    42.000000    23.000000     5.500000     4.000000   \n",
       "\n",
       "              educ   occupation  occupation_husb      affairs  \n",
       "count  6366.000000  6366.000000      6366.000000  6366.000000  \n",
       "mean     14.209865     3.424128         3.850141     0.705374  \n",
       "std       2.178003     0.942399         1.346435     2.203374  \n",
       "min       9.000000     1.000000         1.000000     0.000000  \n",
       "25%      12.000000     3.000000         3.000000     0.000000  \n",
       "50%      14.000000     3.000000         4.000000     0.000000  \n",
       "75%      16.000000     4.000000         5.000000     0.484848  \n",
       "max      20.000000     6.000000         6.000000    57.599991  "
      ]
     },
     "execution_count": 11,
     "metadata": {},
     "output_type": "execute_result"
    }
   ],
   "source": [
    "df.describe()"
   ]
  },
  {
   "cell_type": "markdown",
   "metadata": {},
   "source": [
    "Most of the respondents rate their marriage highly"
   ]
  },
  {
   "cell_type": "markdown",
   "metadata": {},
   "source": [
    "## Convert Children and Affairs to Binary "
   ]
  },
  {
   "cell_type": "code",
   "execution_count": 12,
   "metadata": {},
   "outputs": [
    {
     "name": "stderr",
     "output_type": "stream",
     "text": [
      "C:\\ProgramData\\Anaconda2\\lib\\site-packages\\ipykernel_launcher.py:4: SettingWithCopyWarning: \n",
      "A value is trying to be set on a copy of a slice from a DataFrame\n",
      "\n",
      "See the caveats in the documentation: http://pandas.pydata.org/pandas-docs/stable/indexing.html#indexing-view-versus-copy\n",
      "  after removing the cwd from sys.path.\n",
      "C:\\ProgramData\\Anaconda2\\lib\\site-packages\\ipykernel_launcher.py:5: SettingWithCopyWarning: \n",
      "A value is trying to be set on a copy of a slice from a DataFrame\n",
      "\n",
      "See the caveats in the documentation: http://pandas.pydata.org/pandas-docs/stable/indexing.html#indexing-view-versus-copy\n",
      "  \"\"\"\n",
      "C:\\ProgramData\\Anaconda2\\lib\\site-packages\\ipykernel_launcher.py:7: SettingWithCopyWarning: \n",
      "A value is trying to be set on a copy of a slice from a DataFrame\n",
      "\n",
      "See the caveats in the documentation: http://pandas.pydata.org/pandas-docs/stable/indexing.html#indexing-view-versus-copy\n",
      "  import sys\n",
      "C:\\ProgramData\\Anaconda2\\lib\\site-packages\\ipykernel_launcher.py:8: SettingWithCopyWarning: \n",
      "A value is trying to be set on a copy of a slice from a DataFrame\n",
      "\n",
      "See the caveats in the documentation: http://pandas.pydata.org/pandas-docs/stable/indexing.html#indexing-view-versus-copy\n",
      "  \n"
     ]
    }
   ],
   "source": [
    "# Converting children and affair to yes (1) and no (0)\n",
    "df2=df.copy()\n",
    "df2['affairs_group'] = 0\n",
    "df2['affairs_group'][df2['affairs']>0]=1\n",
    "df2['affairs_group'][df2['affairs']<=0]=0\n",
    "df2['child_group']=0\n",
    "df2['child_group'][df2['children']<=0]=0\n",
    "df2['child_group'][df2['children']>0]=1"
   ]
  },
  {
   "cell_type": "code",
   "execution_count": 13,
   "metadata": {
    "scrolled": true
   },
   "outputs": [
    {
     "data": {
      "text/html": [
       "<div>\n",
       "<style>\n",
       "    .dataframe thead tr:only-child th {\n",
       "        text-align: right;\n",
       "    }\n",
       "\n",
       "    .dataframe thead th {\n",
       "        text-align: left;\n",
       "    }\n",
       "\n",
       "    .dataframe tbody tr th {\n",
       "        vertical-align: top;\n",
       "    }\n",
       "</style>\n",
       "<table border=\"1\" class=\"dataframe\">\n",
       "  <thead>\n",
       "    <tr style=\"text-align: right;\">\n",
       "      <th></th>\n",
       "      <th>rate_marriage</th>\n",
       "      <th>age</th>\n",
       "      <th>yrs_married</th>\n",
       "      <th>religious</th>\n",
       "      <th>educ</th>\n",
       "      <th>occupation</th>\n",
       "      <th>occupation_husb</th>\n",
       "      <th>affairs_group</th>\n",
       "      <th>child_group</th>\n",
       "    </tr>\n",
       "  </thead>\n",
       "  <tbody>\n",
       "    <tr>\n",
       "      <th>rate_marriage</th>\n",
       "      <td>1.000000</td>\n",
       "      <td>-0.111127</td>\n",
       "      <td>-0.128978</td>\n",
       "      <td>0.078794</td>\n",
       "      <td>0.079869</td>\n",
       "      <td>0.039528</td>\n",
       "      <td>0.027745</td>\n",
       "      <td>-0.331776</td>\n",
       "      <td>-0.168831</td>\n",
       "    </tr>\n",
       "    <tr>\n",
       "      <th>age</th>\n",
       "      <td>-0.111127</td>\n",
       "      <td>1.000000</td>\n",
       "      <td>0.894082</td>\n",
       "      <td>0.136598</td>\n",
       "      <td>0.027960</td>\n",
       "      <td>0.106127</td>\n",
       "      <td>0.162567</td>\n",
       "      <td>0.146519</td>\n",
       "      <td>0.520677</td>\n",
       "    </tr>\n",
       "    <tr>\n",
       "      <th>yrs_married</th>\n",
       "      <td>-0.128978</td>\n",
       "      <td>0.894082</td>\n",
       "      <td>1.000000</td>\n",
       "      <td>0.132683</td>\n",
       "      <td>-0.109058</td>\n",
       "      <td>0.041782</td>\n",
       "      <td>0.128135</td>\n",
       "      <td>0.203109</td>\n",
       "      <td>0.613814</td>\n",
       "    </tr>\n",
       "    <tr>\n",
       "      <th>religious</th>\n",
       "      <td>0.078794</td>\n",
       "      <td>0.136598</td>\n",
       "      <td>0.132683</td>\n",
       "      <td>1.000000</td>\n",
       "      <td>0.032245</td>\n",
       "      <td>0.035746</td>\n",
       "      <td>0.004061</td>\n",
       "      <td>-0.129299</td>\n",
       "      <td>0.096127</td>\n",
       "    </tr>\n",
       "    <tr>\n",
       "      <th>educ</th>\n",
       "      <td>0.079869</td>\n",
       "      <td>0.027960</td>\n",
       "      <td>-0.109058</td>\n",
       "      <td>0.032245</td>\n",
       "      <td>1.000000</td>\n",
       "      <td>0.382286</td>\n",
       "      <td>0.183932</td>\n",
       "      <td>-0.075280</td>\n",
       "      <td>-0.134299</td>\n",
       "    </tr>\n",
       "    <tr>\n",
       "      <th>occupation</th>\n",
       "      <td>0.039528</td>\n",
       "      <td>0.106127</td>\n",
       "      <td>0.041782</td>\n",
       "      <td>0.035746</td>\n",
       "      <td>0.382286</td>\n",
       "      <td>1.000000</td>\n",
       "      <td>0.201156</td>\n",
       "      <td>0.028981</td>\n",
       "      <td>-0.025478</td>\n",
       "    </tr>\n",
       "    <tr>\n",
       "      <th>occupation_husb</th>\n",
       "      <td>0.027745</td>\n",
       "      <td>0.162567</td>\n",
       "      <td>0.128135</td>\n",
       "      <td>0.004061</td>\n",
       "      <td>0.183932</td>\n",
       "      <td>0.201156</td>\n",
       "      <td>1.000000</td>\n",
       "      <td>0.017637</td>\n",
       "      <td>0.073403</td>\n",
       "    </tr>\n",
       "    <tr>\n",
       "      <th>affairs_group</th>\n",
       "      <td>-0.331776</td>\n",
       "      <td>0.146519</td>\n",
       "      <td>0.203109</td>\n",
       "      <td>-0.129299</td>\n",
       "      <td>-0.075280</td>\n",
       "      <td>0.028981</td>\n",
       "      <td>0.017637</td>\n",
       "      <td>1.000000</td>\n",
       "      <td>0.191515</td>\n",
       "    </tr>\n",
       "    <tr>\n",
       "      <th>child_group</th>\n",
       "      <td>-0.168831</td>\n",
       "      <td>0.520677</td>\n",
       "      <td>0.613814</td>\n",
       "      <td>0.096127</td>\n",
       "      <td>-0.134299</td>\n",
       "      <td>-0.025478</td>\n",
       "      <td>0.073403</td>\n",
       "      <td>0.191515</td>\n",
       "      <td>1.000000</td>\n",
       "    </tr>\n",
       "  </tbody>\n",
       "</table>\n",
       "</div>"
      ],
      "text/plain": [
       "                 rate_marriage       age  yrs_married  religious      educ  \\\n",
       "rate_marriage         1.000000 -0.111127    -0.128978   0.078794  0.079869   \n",
       "age                  -0.111127  1.000000     0.894082   0.136598  0.027960   \n",
       "yrs_married          -0.128978  0.894082     1.000000   0.132683 -0.109058   \n",
       "religious             0.078794  0.136598     0.132683   1.000000  0.032245   \n",
       "educ                  0.079869  0.027960    -0.109058   0.032245  1.000000   \n",
       "occupation            0.039528  0.106127     0.041782   0.035746  0.382286   \n",
       "occupation_husb       0.027745  0.162567     0.128135   0.004061  0.183932   \n",
       "affairs_group        -0.331776  0.146519     0.203109  -0.129299 -0.075280   \n",
       "child_group          -0.168831  0.520677     0.613814   0.096127 -0.134299   \n",
       "\n",
       "                 occupation  occupation_husb  affairs_group  child_group  \n",
       "rate_marriage      0.039528         0.027745      -0.331776    -0.168831  \n",
       "age                0.106127         0.162567       0.146519     0.520677  \n",
       "yrs_married        0.041782         0.128135       0.203109     0.613814  \n",
       "religious          0.035746         0.004061      -0.129299     0.096127  \n",
       "educ               0.382286         0.183932      -0.075280    -0.134299  \n",
       "occupation         1.000000         0.201156       0.028981    -0.025478  \n",
       "occupation_husb    0.201156         1.000000       0.017637     0.073403  \n",
       "affairs_group      0.028981         0.017637       1.000000     0.191515  \n",
       "child_group       -0.025478         0.073403       0.191515     1.000000  "
      ]
     },
     "execution_count": 13,
     "metadata": {},
     "output_type": "execute_result"
    }
   ],
   "source": [
    "df2.drop(['children','affairs'], axis=1, inplace=True)\n",
    "df2.corr()"
   ]
  },
  {
   "cell_type": "code",
   "execution_count": 14,
   "metadata": {},
   "outputs": [
    {
     "data": {
      "text/html": [
       "<div>\n",
       "<style>\n",
       "    .dataframe thead tr:only-child th {\n",
       "        text-align: right;\n",
       "    }\n",
       "\n",
       "    .dataframe thead th {\n",
       "        text-align: left;\n",
       "    }\n",
       "\n",
       "    .dataframe tbody tr th {\n",
       "        vertical-align: top;\n",
       "    }\n",
       "</style>\n",
       "<table border=\"1\" class=\"dataframe\">\n",
       "  <thead>\n",
       "    <tr style=\"text-align: right;\">\n",
       "      <th>affairs_group</th>\n",
       "      <th>0</th>\n",
       "      <th>1</th>\n",
       "    </tr>\n",
       "    <tr>\n",
       "      <th>child_group</th>\n",
       "      <th></th>\n",
       "      <th></th>\n",
       "    </tr>\n",
       "  </thead>\n",
       "  <tbody>\n",
       "    <tr>\n",
       "      <th>0</th>\n",
       "      <td>1912</td>\n",
       "      <td>502</td>\n",
       "    </tr>\n",
       "    <tr>\n",
       "      <th>1</th>\n",
       "      <td>2401</td>\n",
       "      <td>1551</td>\n",
       "    </tr>\n",
       "  </tbody>\n",
       "</table>\n",
       "</div>"
      ],
      "text/plain": [
       "affairs_group     0     1\n",
       "child_group              \n",
       "0              1912   502\n",
       "1              2401  1551"
      ]
     },
     "execution_count": 14,
     "metadata": {},
     "output_type": "execute_result"
    }
   ],
   "source": [
    "pd.crosstab(df2['child_group'], df2['affairs_group'])"
   ]
  },
  {
   "cell_type": "markdown",
   "metadata": {},
   "source": [
    "## Visualization"
   ]
  },
  {
   "cell_type": "code",
   "execution_count": 15,
   "metadata": {},
   "outputs": [
    {
     "data": {
      "image/png": "[encoded data removed]",
      "text/plain": [
       "<matplotlib.figure.Figure at 0xe4a5f28>"
      ]
     },
     "metadata": {},
     "output_type": "display_data"
    }
   ],
   "source": [
    "sns.heatmap(df2.corr(),cmap='YlOrBr')\n",
    "plt.title('Correlation Heatmap')\n",
    "plt.xticks(rotation='45')\n",
    "plt.show()"
   ]
  },
  {
   "cell_type": "code",
   "execution_count": 16,
   "metadata": {},
   "outputs": [
    {
     "data": {
      "text/html": [
       "<div>\n",
       "<style>\n",
       "    .dataframe thead tr:only-child th {\n",
       "        text-align: right;\n",
       "    }\n",
       "\n",
       "    .dataframe thead th {\n",
       "        text-align: left;\n",
       "    }\n",
       "\n",
       "    .dataframe tbody tr th {\n",
       "        vertical-align: top;\n",
       "    }\n",
       "</style>\n",
       "<table border=\"1\" class=\"dataframe\">\n",
       "  <thead>\n",
       "    <tr style=\"text-align: right;\">\n",
       "      <th></th>\n",
       "      <th>affairs_group</th>\n",
       "    </tr>\n",
       "  </thead>\n",
       "  <tbody>\n",
       "    <tr>\n",
       "      <th>affairs_group</th>\n",
       "      <td>1.000000</td>\n",
       "    </tr>\n",
       "    <tr>\n",
       "      <th>rate_marriage</th>\n",
       "      <td>0.331776</td>\n",
       "    </tr>\n",
       "    <tr>\n",
       "      <th>yrs_married</th>\n",
       "      <td>0.203109</td>\n",
       "    </tr>\n",
       "    <tr>\n",
       "      <th>child_group</th>\n",
       "      <td>0.191515</td>\n",
       "    </tr>\n",
       "    <tr>\n",
       "      <th>age</th>\n",
       "      <td>0.146519</td>\n",
       "    </tr>\n",
       "    <tr>\n",
       "      <th>religious</th>\n",
       "      <td>0.129299</td>\n",
       "    </tr>\n",
       "    <tr>\n",
       "      <th>educ</th>\n",
       "      <td>0.075280</td>\n",
       "    </tr>\n",
       "    <tr>\n",
       "      <th>occupation</th>\n",
       "      <td>0.028981</td>\n",
       "    </tr>\n",
       "    <tr>\n",
       "      <th>occupation_husb</th>\n",
       "      <td>0.017637</td>\n",
       "    </tr>\n",
       "  </tbody>\n",
       "</table>\n",
       "</div>"
      ],
      "text/plain": [
       "                 affairs_group\n",
       "affairs_group         1.000000\n",
       "rate_marriage         0.331776\n",
       "yrs_married           0.203109\n",
       "child_group           0.191515\n",
       "age                   0.146519\n",
       "religious             0.129299\n",
       "educ                  0.075280\n",
       "occupation            0.028981\n",
       "occupation_husb       0.017637"
      ]
     },
     "execution_count": 16,
     "metadata": {},
     "output_type": "execute_result"
    }
   ],
   "source": [
    "df2.corr()[['affairs_group']].abs().sort_values(by='affairs_group',ascending=False)"
   ]
  },
  {
   "cell_type": "code",
   "execution_count": 17,
   "metadata": {},
   "outputs": [
    {
     "data": {
      "text/html": [
       "<div>\n",
       "<style>\n",
       "    .dataframe thead tr:only-child th {\n",
       "        text-align: right;\n",
       "    }\n",
       "\n",
       "    .dataframe thead th {\n",
       "        text-align: left;\n",
       "    }\n",
       "\n",
       "    .dataframe tbody tr th {\n",
       "        vertical-align: top;\n",
       "    }\n",
       "</style>\n",
       "<table border=\"1\" class=\"dataframe\">\n",
       "  <thead>\n",
       "    <tr style=\"text-align: right;\">\n",
       "      <th></th>\n",
       "      <th>affairs_group</th>\n",
       "    </tr>\n",
       "  </thead>\n",
       "  <tbody>\n",
       "    <tr>\n",
       "      <th>affairs_group</th>\n",
       "      <td>1.000000</td>\n",
       "    </tr>\n",
       "    <tr>\n",
       "      <th>yrs_married</th>\n",
       "      <td>0.203109</td>\n",
       "    </tr>\n",
       "    <tr>\n",
       "      <th>child_group</th>\n",
       "      <td>0.191515</td>\n",
       "    </tr>\n",
       "    <tr>\n",
       "      <th>age</th>\n",
       "      <td>0.146519</td>\n",
       "    </tr>\n",
       "    <tr>\n",
       "      <th>occupation</th>\n",
       "      <td>0.028981</td>\n",
       "    </tr>\n",
       "    <tr>\n",
       "      <th>occupation_husb</th>\n",
       "      <td>0.017637</td>\n",
       "    </tr>\n",
       "    <tr>\n",
       "      <th>educ</th>\n",
       "      <td>-0.075280</td>\n",
       "    </tr>\n",
       "    <tr>\n",
       "      <th>religious</th>\n",
       "      <td>-0.129299</td>\n",
       "    </tr>\n",
       "    <tr>\n",
       "      <th>rate_marriage</th>\n",
       "      <td>-0.331776</td>\n",
       "    </tr>\n",
       "  </tbody>\n",
       "</table>\n",
       "</div>"
      ],
      "text/plain": [
       "                 affairs_group\n",
       "affairs_group         1.000000\n",
       "yrs_married           0.203109\n",
       "child_group           0.191515\n",
       "age                   0.146519\n",
       "occupation            0.028981\n",
       "occupation_husb       0.017637\n",
       "educ                 -0.075280\n",
       "religious            -0.129299\n",
       "rate_marriage        -0.331776"
      ]
     },
     "execution_count": 17,
     "metadata": {},
     "output_type": "execute_result"
    }
   ],
   "source": [
    "df2.corr()[['affairs_group']].sort_values(by='affairs_group',ascending=False)"
   ]
  },
  {
   "cell_type": "markdown",
   "metadata": {},
   "source": [
    "Negative correlation between religious, rate_marriage and affairs_group. Positive correlation between yrs_married, child_group, age and affairs_group"
   ]
  },
  {
   "cell_type": "markdown",
   "metadata": {},
   "source": [
    "#### Boxplot showing religious level and amount of time spent for affair"
   ]
  },
  {
   "cell_type": "code",
   "execution_count": 18,
   "metadata": {},
   "outputs": [
    {
     "data": {
      "image/png": "[encoded data removed]",
      "text/plain": [
       "<matplotlib.figure.Figure at 0xe8b2780>"
      ]
     },
     "metadata": {},
     "output_type": "display_data"
    }
   ],
   "source": [
    "sns.boxplot(x='religious',y='affairs',data=df)\n",
    "plt.show()"
   ]
  },
  {
   "cell_type": "markdown",
   "metadata": {},
   "source": [
    "Generally longer time spent on affair among individual with low religious values"
   ]
  },
  {
   "cell_type": "markdown",
   "metadata": {},
   "source": [
    "#### Distribution of number of affairs"
   ]
  },
  {
   "cell_type": "code",
   "execution_count": 19,
   "metadata": {},
   "outputs": [
    {
     "data": {
      "image/png": "[encoded data removed]",
      "text/plain": [
       "<matplotlib.figure.Figure at 0xed25ba8>"
      ]
     },
     "metadata": {},
     "output_type": "display_data"
    }
   ],
   "source": [
    "sns.distplot(df['affairs'])\n",
    "plt.title('Distribution of number of affairs')\n",
    "plt.show()"
   ]
  },
  {
   "cell_type": "markdown",
   "metadata": {},
   "source": [
    "Most of the female surveyed does not commit any affair"
   ]
  },
  {
   "cell_type": "code",
   "execution_count": 20,
   "metadata": {
    "scrolled": true
   },
   "outputs": [
    {
     "data": {
      "image/png": "[encoded data removed]",
      "text/plain": [
       "<matplotlib.figure.Figure at 0xf6b6b00>"
      ]
     },
     "metadata": {},
     "output_type": "display_data"
    }
   ],
   "source": [
    "plt.figure(figsize = (10,5))\n",
    "sns.distplot(df['age'])\n",
    "plt.title(\"Distribution of Respondents' Age\")\n",
    "plt.show()"
   ]
  },
  {
   "cell_type": "code",
   "execution_count": 21,
   "metadata": {},
   "outputs": [
    {
     "data": {
      "text/plain": [
       "27.0    1931\n",
       "22.0    1800\n",
       "32.0    1069\n",
       "42.0     793\n",
       "37.0     634\n",
       "17.5     139\n",
       "Name: age, dtype: int64"
      ]
     },
     "execution_count": 21,
     "metadata": {},
     "output_type": "execute_result"
    }
   ],
   "source": [
    "df.age.value_counts()"
   ]
  },
  {
   "cell_type": "markdown",
   "metadata": {},
   "source": [
    "The age of respondents are grouped into upper half and lower half of each decade, .e.g early 20s = 22, later 20s = 27. Suspect this data has been aggregated"
   ]
  },
  {
   "cell_type": "code",
   "execution_count": 22,
   "metadata": {
    "scrolled": true
   },
   "outputs": [
    {
     "data": {
      "image/png": "[encoded data removed]",
      "text/plain": [
       "<matplotlib.figure.Figure at 0xfbcd8d0>"
      ]
     },
     "metadata": {},
     "output_type": "display_data"
    }
   ],
   "source": [
    "plt.figure(figsize=(12,5))\n",
    "sns.barplot(x='age', y='affairs',data=df)\n",
    "plt.title(\"Distribution of amount of time spent on affairs by age group\")\n",
    "plt.show()\n"
   ]
  },
  {
   "cell_type": "markdown",
   "metadata": {},
   "source": [
    "Higher amount of time spent on affairs by those in early 20s"
   ]
  },
  {
   "cell_type": "code",
   "execution_count": 23,
   "metadata": {},
   "outputs": [
    {
     "data": {
      "image/png": "[encoded data removed]",
      "text/plain": [
       "<matplotlib.figure.Figure at 0xeb0b828>"
      ]
     },
     "metadata": {},
     "output_type": "display_data"
    }
   ],
   "source": [
    "sns.barplot(x='educ', y='affairs',data=df)\n",
    "plt.title('Education and amount of time spent on affairs')\n",
    "plt.show()"
   ]
  },
  {
   "cell_type": "markdown",
   "metadata": {},
   "source": [
    "Inconclusive correlation between education and amount of time spent on affair"
   ]
  },
  {
   "cell_type": "code",
   "execution_count": 24,
   "metadata": {},
   "outputs": [
    {
     "data": {
      "text/html": [
       "<div>\n",
       "<style>\n",
       "    .dataframe thead tr:only-child th {\n",
       "        text-align: right;\n",
       "    }\n",
       "\n",
       "    .dataframe thead th {\n",
       "        text-align: left;\n",
       "    }\n",
       "\n",
       "    .dataframe tbody tr th {\n",
       "        vertical-align: top;\n",
       "    }\n",
       "</style>\n",
       "<table border=\"1\" class=\"dataframe\">\n",
       "  <thead>\n",
       "    <tr style=\"text-align: right;\">\n",
       "      <th>age</th>\n",
       "      <th>17.5</th>\n",
       "      <th>22.0</th>\n",
       "      <th>27.0</th>\n",
       "      <th>32.0</th>\n",
       "      <th>37.0</th>\n",
       "      <th>42.0</th>\n",
       "    </tr>\n",
       "    <tr>\n",
       "      <th>rate_marriage</th>\n",
       "      <th></th>\n",
       "      <th></th>\n",
       "      <th></th>\n",
       "      <th></th>\n",
       "      <th></th>\n",
       "      <th></th>\n",
       "    </tr>\n",
       "  </thead>\n",
       "  <tbody>\n",
       "    <tr>\n",
       "      <th>1</th>\n",
       "      <td>1</td>\n",
       "      <td>10</td>\n",
       "      <td>19</td>\n",
       "      <td>22</td>\n",
       "      <td>16</td>\n",
       "      <td>31</td>\n",
       "    </tr>\n",
       "    <tr>\n",
       "      <th>2</th>\n",
       "      <td>6</td>\n",
       "      <td>81</td>\n",
       "      <td>89</td>\n",
       "      <td>67</td>\n",
       "      <td>48</td>\n",
       "      <td>57</td>\n",
       "    </tr>\n",
       "    <tr>\n",
       "      <th>3</th>\n",
       "      <td>14</td>\n",
       "      <td>225</td>\n",
       "      <td>316</td>\n",
       "      <td>174</td>\n",
       "      <td>117</td>\n",
       "      <td>147</td>\n",
       "    </tr>\n",
       "    <tr>\n",
       "      <th>4</th>\n",
       "      <td>45</td>\n",
       "      <td>637</td>\n",
       "      <td>712</td>\n",
       "      <td>380</td>\n",
       "      <td>229</td>\n",
       "      <td>239</td>\n",
       "    </tr>\n",
       "    <tr>\n",
       "      <th>5</th>\n",
       "      <td>73</td>\n",
       "      <td>847</td>\n",
       "      <td>795</td>\n",
       "      <td>426</td>\n",
       "      <td>224</td>\n",
       "      <td>319</td>\n",
       "    </tr>\n",
       "  </tbody>\n",
       "</table>\n",
       "</div>"
      ],
      "text/plain": [
       "age            17.5  22.0  27.0  32.0  37.0  42.0\n",
       "rate_marriage                                    \n",
       "1                 1    10    19    22    16    31\n",
       "2                 6    81    89    67    48    57\n",
       "3                14   225   316   174   117   147\n",
       "4                45   637   712   380   229   239\n",
       "5                73   847   795   426   224   319"
      ]
     },
     "execution_count": 24,
     "metadata": {},
     "output_type": "execute_result"
    }
   ],
   "source": [
    "pd.crosstab(index=df['rate_marriage'],columns=df['age'])"
   ]
  },
  {
   "cell_type": "code",
   "execution_count": 25,
   "metadata": {},
   "outputs": [
    {
     "data": {
      "text/plain": [
       "0.000000    4313\n",
       "1.400000     118\n",
       "0.583333      86\n",
       "0.400000      72\n",
       "1.333333      72\n",
       "Name: affairs, dtype: int64"
      ]
     },
     "execution_count": 25,
     "metadata": {},
     "output_type": "execute_result"
    }
   ],
   "source": [
    "df.affairs.value_counts().head()"
   ]
  },
  {
   "cell_type": "code",
   "execution_count": 26,
   "metadata": {},
   "outputs": [
    {
     "data": {
      "image/png": "[encoded data removed]",
      "text/plain": [
       "<matplotlib.figure.Figure at 0xf6ce780>"
      ]
     },
     "metadata": {},
     "output_type": "display_data"
    }
   ],
   "source": [
    "sns.barplot(x='rate_marriage', y='affairs',data=df)\n",
    "plt.title(\"Distribution of amount of time spent in affairs by marriage rate\")\n",
    "plt.show()"
   ]
  },
  {
   "cell_type": "markdown",
   "metadata": {},
   "source": [
    "It seems there is strong negative correlation between marriage happiness and amount of time spent on affairs"
   ]
  },
  {
   "cell_type": "code",
   "execution_count": 27,
   "metadata": {},
   "outputs": [
    {
     "data": {
      "image/png": "[encoded data removed]",
      "text/plain": [
       "<matplotlib.figure.Figure at 0x102432b0>"
      ]
     },
     "metadata": {},
     "output_type": "display_data"
    }
   ],
   "source": [
    "plt.figure(figsize=(10,7))\n",
    "sns.boxplot(y='rate_marriage', x='yrs_married',data=df2)\n",
    "plt.title(\"Marriage Rating by Number of years married\")\n",
    "plt.show()"
   ]
  },
  {
   "cell_type": "markdown",
   "metadata": {},
   "source": [
    "Newly weds tend to rate their marriage higher"
   ]
  },
  {
   "cell_type": "code",
   "execution_count": 28,
   "metadata": {},
   "outputs": [
    {
     "data": {
      "image/png": "[encoded data removed]",
      "text/plain": [
       "<matplotlib.figure.Figure at 0x570eeb8>"
      ]
     },
     "metadata": {},
     "output_type": "display_data"
    }
   ],
   "source": [
    "sns.boxplot(x='educ', y='rate_marriage', data = df2)\n",
    "plt.title('Marriage rating and education level')\n",
    "plt.show()"
   ]
  },
  {
   "cell_type": "markdown",
   "metadata": {},
   "source": []
  },
  {
   "cell_type": "code",
   "execution_count": 29,
   "metadata": {},
   "outputs": [
    {
     "data": {
      "image/png": "[encoded data removed]",
      "text/plain": [
       "<matplotlib.figure.Figure at 0x100bf208>"
      ]
     },
     "metadata": {},
     "output_type": "display_data"
    }
   ],
   "source": [
    "sns.barplot(y='affairs_group', x='religious',hue='child_group',data=df2)\n",
    "plt.title('Interaction between religious view, having or not having child and amount of time spent on affairs')\n",
    "plt.ylabel('portion of time spent on affair')\n",
    "plt.show()"
   ]
  },
  {
   "cell_type": "markdown",
   "metadata": {},
   "source": [
    "Negative correlation between Religious level and amount of time spent on affairs"
   ]
  },
  {
   "cell_type": "code",
   "execution_count": 30,
   "metadata": {},
   "outputs": [
    {
     "data": {
      "image/png": "[encoded data removed]",
      "text/plain": [
       "<matplotlib.figure.Figure at 0xfb133c8>"
      ]
     },
     "metadata": {},
     "output_type": "display_data"
    }
   ],
   "source": [
    "sns.barplot(x='religious', y='affairs_group',data=df2)\n",
    "plt.title('Religious views and time spent on affairs')\n",
    "plt.show()"
   ]
  },
  {
   "cell_type": "code",
   "execution_count": 31,
   "metadata": {},
   "outputs": [
    {
     "data": {
      "image/png": "[encoded data removed]",
      "text/plain": [
       "<matplotlib.figure.Figure at 0xff4b080>"
      ]
     },
     "metadata": {},
     "output_type": "display_data"
    }
   ],
   "source": [
    "sns.barplot(x='occupation', y='affairs_group', hue='child_group', data=df2)\n",
    "plt.show()"
   ]
  },
  {
   "cell_type": "markdown",
   "metadata": {},
   "source": [
    "Professionals with advanced degree spend more time on affairs?"
   ]
  },
  {
   "cell_type": "markdown",
   "metadata": {},
   "source": [
    "### Define X and y"
   ]
  },
  {
   "cell_type": "code",
   "execution_count": 32,
   "metadata": {
    "collapsed": true
   },
   "outputs": [],
   "source": [
    "a = df2.iloc[:,:6]"
   ]
  },
  {
   "cell_type": "code",
   "execution_count": 33,
   "metadata": {
    "collapsed": true
   },
   "outputs": [],
   "source": [
    "b = df2.iloc[:,8:]"
   ]
  },
  {
   "cell_type": "code",
   "execution_count": 34,
   "metadata": {
    "collapsed": true
   },
   "outputs": [],
   "source": [
    "c = a.join(b)"
   ]
  },
  {
   "cell_type": "code",
   "execution_count": 35,
   "metadata": {},
   "outputs": [
    {
     "data": {
      "text/plain": [
       "Index([u'rate_marriage', u'age', u'yrs_married', u'religious', u'educ',\n",
       "       u'occupation', u'child_group'],\n",
       "      dtype='object')"
      ]
     },
     "execution_count": 35,
     "metadata": {},
     "output_type": "execute_result"
    }
   ],
   "source": [
    "factors = c.columns\n",
    "factors"
   ]
  },
  {
   "cell_type": "code",
   "execution_count": 36,
   "metadata": {
    "collapsed": true
   },
   "outputs": [],
   "source": [
    "#factors=['rate_marriage','age','yrs_married', 'child_group', 'religious','educ','occupation']\n",
    "#factors=df3.columns[7:]\n",
    "#factors.append(df3.columns[7:])\n",
    "#print factors"
   ]
  },
  {
   "cell_type": "code",
   "execution_count": 37,
   "metadata": {
    "collapsed": true
   },
   "outputs": [],
   "source": [
    "X=df2[factors]\n",
    "y=df2['affairs_group']"
   ]
  },
  {
   "cell_type": "code",
   "execution_count": 38,
   "metadata": {
    "collapsed": true
   },
   "outputs": [],
   "source": [
    "X_train, X_test, y_train, y_test = train_test_split(X,y)"
   ]
  },
  {
   "cell_type": "markdown",
   "metadata": {},
   "source": [
    "### Modelling using functions"
   ]
  },
  {
   "cell_type": "code",
   "execution_count": 39,
   "metadata": {},
   "outputs": [],
   "source": [
    "def plot_roc(name, ytest,y_score):\n",
    "    fpr,tpr,treshold=metrics.roc_curve(ytest,y_score)\n",
    "    plt.plot(fpr,tpr,label='ROC curve of {}'.format(name,metrics.roc_auc_score(ytest,y_score)))\n",
    "    plt.xlabel('False Positive Rate')\n",
    "    plt.ylabel('True Positive Rate')\n",
    "    plt.title('ROC curve of models')\n",
    "\n",
    "def fit_model(model,xtrain,ytrain):\n",
    "    model.fit(xtrain,ytrain)\n",
    "    return model\n",
    "\n",
    "def eval_model(model, name, xtrain=X_train, xtest=X_test,ytrain=y_train,ytest=y_test):\n",
    "    modeln = fit_model(model, xtrain, ytrain)\n",
    "    y_pred=modeln.predict(xtest)\n",
    "    y_score=modeln.predict_proba(xtest)[:,1]\n",
    "    plot_roc(name, ytest, y_score)\n",
    "    plt.legend()\n",
    "    \n",
    "    if 'Reg'in name:\n",
    "        odds=np.exp(modeln.coef_[0])\n",
    "        imp = pd.DataFrame([X_train.columns, odds], index=['Factors', 'Coef']).T.sort_values(by='Coef', ascending=False)\n",
    "    elif 'KN' in name:\n",
    "        imp = ''\n",
    "    else:\n",
    "        imp = pd.DataFrame([X_train.columns, modeln.feature_importances_],index=['Feature', 'Importance']).T.sort_values(by='Importance',ascending=False)\n",
    "\n",
    "    print ('*********************  {}  ***************************'.format(name))\n",
    "    print ''\n",
    "    print (\"Accuracy of {} model: {}\".format(name, metrics.accuracy_score(ytest,y_pred)))\n",
    "    print ''\n",
    "    print ('Classification report for {} model'.format(name))\n",
    "    print(metrics.classification_report(y_test,y_pred,target_names=['Not_having_affair', 'Having_affair']))\n",
    "    \n",
    "    print ('Confusion matrix for {} model'.format(name))\n",
    "    confusion_matrix=metrics.confusion_matrix(y_test,y_pred)\n",
    "    confusion_matrix=pd.DataFrame(confusion_matrix, index=['Not_having_affair', 'Having_affair'], columns=['Not_having_affair', 'Having_affair'])\n",
    "    print confusion_matrix\n",
    "    print ''\n",
    "    print imp\n",
    "    print ''"
   ]
  },
  {
   "cell_type": "code",
   "execution_count": 40,
   "metadata": {},
   "outputs": [
    {
     "name": "stdout",
     "output_type": "stream",
     "text": [
      "*********************  KNN  ***************************\n",
      "\n",
      "Accuracy of KNN model: 0.68027638191\n",
      "\n",
      "Classification report for KNN model\n",
      "                   precision    recall  f1-score   support\n",
      "\n",
      "Not_having_affair       0.74      0.81      0.77      1071\n",
      "    Having_affair       0.51      0.41      0.45       521\n",
      "\n",
      "      avg / total       0.66      0.68      0.67      1592\n",
      "\n",
      "Confusion matrix for KNN model\n",
      "                   Not_having_affair  Having_affair\n",
      "Not_having_affair                871            200\n",
      "Having_affair                    309            212\n",
      "\n",
      "\n",
      "\n",
      "*********************  Logistic_Regression  ***************************\n",
      "\n",
      "Accuracy of Logistic_Regression model: 0.70540201005\n",
      "\n",
      "Classification report for Logistic_Regression model\n",
      "                   precision    recall  f1-score   support\n",
      "\n",
      "Not_having_affair       0.73      0.89      0.80      1071\n",
      "    Having_affair       0.59      0.32      0.42       521\n",
      "\n",
      "      avg / total       0.68      0.71      0.68      1592\n",
      "\n",
      "Confusion matrix for Logistic_Regression model\n",
      "                   Not_having_affair  Having_affair\n",
      "Not_having_affair                955            116\n",
      "Having_affair                    353            168\n",
      "\n",
      "         Factors      Coef\n",
      "6    child_group   1.47618\n",
      "5     occupation   1.18513\n",
      "2    yrs_married   1.10215\n",
      "4           educ    0.9706\n",
      "1            age  0.944976\n",
      "3      religious  0.679989\n",
      "0  rate_marriage  0.486345\n",
      "\n",
      "*********************  Decision_Tree  ***************************\n",
      "\n",
      "Accuracy of Decision_Tree model: 0.674623115578\n",
      "\n",
      "Classification report for Decision_Tree model\n",
      "                   precision    recall  f1-score   support\n",
      "\n",
      "Not_having_affair       0.73      0.83      0.77      1071\n",
      "    Having_affair       0.50      0.36      0.42       521\n",
      "\n",
      "      avg / total       0.65      0.67      0.66      1592\n",
      "\n",
      "Confusion matrix for Decision_Tree model\n",
      "                   Not_having_affair  Having_affair\n",
      "Not_having_affair                887            184\n",
      "Having_affair                    334            187\n",
      "\n",
      "         Feature Importance\n",
      "0  rate_marriage   0.222128\n",
      "2    yrs_married   0.176719\n",
      "4           educ   0.157824\n",
      "5     occupation   0.141038\n",
      "1            age   0.140913\n",
      "3      religious   0.117476\n",
      "6    child_group  0.0439019\n",
      "\n",
      "*********************  Random_Forest  ***************************\n",
      "\n",
      "Accuracy of Random_Forest model: 0.685929648241\n",
      "\n",
      "Classification report for Random_Forest model\n",
      "                   precision    recall  f1-score   support\n",
      "\n",
      "Not_having_affair       0.74      0.82      0.78      1071\n",
      "    Having_affair       0.53      0.41      0.46       521\n",
      "\n",
      "      avg / total       0.67      0.69      0.67      1592\n",
      "\n",
      "Confusion matrix for Random_Forest model\n",
      "                   Not_having_affair  Having_affair\n",
      "Not_having_affair                880            191\n",
      "Having_affair                    309            212\n",
      "\n",
      "         Feature Importance\n",
      "0  rate_marriage   0.216097\n",
      "2    yrs_married   0.172781\n",
      "4           educ    0.16195\n",
      "5     occupation   0.153936\n",
      "3      religious   0.130216\n",
      "1            age   0.126674\n",
      "6    child_group  0.0383458\n",
      "\n"
     ]
    },
    {
     "data": {
      "image/png": "[encoded data removed]",
      "text/plain": [
       "<matplotlib.figure.Figure at 0xec64cf8>"
      ]
     },
     "metadata": {},
     "output_type": "display_data"
    }
   ],
   "source": [
    "#KNN Model\n",
    "eval_model(neighbors.KNeighborsClassifier(),'KNN')\n",
    "#Logistic Regression model\n",
    "eval_model(linear_model.LogisticRegressionCV(cv=5), 'Logistic_Regression')\n",
    "#Decision Tree model\n",
    "eval_model(tree.DecisionTreeClassifier(),'Decision_Tree')\n",
    "#Random Forest\n",
    "eval_model(ensemble.RandomForestClassifier(n_estimators=50),'Random_Forest')"
   ]
  },
  {
   "cell_type": "markdown",
   "metadata": {},
   "source": [
    "Highest area under curve (AUC) is for Logistic Regression."
   ]
  },
  {
   "cell_type": "markdown",
   "metadata": {},
   "source": [
    "#### KNN with Cross Validation:"
   ]
  },
  {
   "cell_type": "code",
   "execution_count": 41,
   "metadata": {
    "collapsed": true
   },
   "outputs": [],
   "source": [
    "Xkf=np.array(df2[factors])"
   ]
  },
  {
   "cell_type": "code",
   "execution_count": 42,
   "metadata": {},
   "outputs": [
    {
     "name": "stdout",
     "output_type": "stream",
     "text": [
      "KNN with KFold Mean Accuracy: 0.69589022837\n"
     ]
    }
   ],
   "source": [
    "kf=KFold(n_splits=10, random_state=10, shuffle=True)\n",
    "scores=[]\n",
    "for train_index, test_index in kf.split(Xkf,y):\n",
    "    X_trainkf=Xkf[train_index]\n",
    "    X_testkf=Xkf[test_index]\n",
    "    y_trainkf=y[train_index]\n",
    "    y_testkf=y[test_index]\n",
    "    knn=KNeighborsClassifier(5).fit(X_trainkf,y_trainkf)\n",
    "    test_preds=knn.predict(X_testkf)\n",
    "    accuracy=metrics.accuracy_score(test_preds,y_testkf)\n",
    "    scores.append(accuracy)\n",
    "print ('KNN with KFold Mean Accuracy: {}'.format( np.mean(scores)))"
   ]
  },
  {
   "cell_type": "markdown",
   "metadata": {},
   "source": [
    "## Findings"
   ]
  },
  {
   "cell_type": "markdown",
   "metadata": {
    "collapsed": true
   },
   "source": [
    "Our model is able to predict with around 73% accuracy whether a married female will commit affair given their rating on their marriage happiness, number of years married, occupation, education, religious view, age and whether or not they have child. This accuracy level is subject to numerous factors including demographic, culture and values of the society being the same as when the survey was conducted. There is no doubt that the society, the way people view and value marriage has changed over time. Thus this model needs to be retrained with latest data if available to ensure relevance.\n",
    "\n",
    "From the study we also noticed that there is no one factor being clearly dominant in determining whether a married female will commit extra marital affair. We are however able to identify that rating on marriage happiness, years married, occupaction, religious view and age play important role in determining extra marital tendency, particularly the rating on marriage happiness.\n",
    "\n",
    "If we refer to the logistic regression coefficients, we can see that for every additional child, the odds of extramarital affair changes by 1.3891 (increase by approximately 39%).\n",
    "\n",
    "Going forward it is necessary to reassess this model using a more recent data to reflect the pattern in current society. A dataset from male respondents will also allow us to see how gender plays as a factor in determining extramarital affair occurrence."
   ]
  },
  {
   "cell_type": "markdown",
   "metadata": {},
   "source": [
    "## Get Dummies"
   ]
  },
  {
   "cell_type": "code",
   "execution_count": 43,
   "metadata": {},
   "outputs": [
    {
     "data": {
      "text/html": [
       "<div>\n",
       "<style>\n",
       "    .dataframe thead tr:only-child th {\n",
       "        text-align: right;\n",
       "    }\n",
       "\n",
       "    .dataframe thead th {\n",
       "        text-align: left;\n",
       "    }\n",
       "\n",
       "    .dataframe tbody tr th {\n",
       "        vertical-align: top;\n",
       "    }\n",
       "</style>\n",
       "<table border=\"1\" class=\"dataframe\">\n",
       "  <thead>\n",
       "    <tr style=\"text-align: right;\">\n",
       "      <th></th>\n",
       "      <th>age</th>\n",
       "      <th>yrs_married</th>\n",
       "      <th>educ</th>\n",
       "      <th>occupation_husb</th>\n",
       "      <th>affairs_group</th>\n",
       "      <th>child_group</th>\n",
       "      <th>rate_marriage_2</th>\n",
       "      <th>rate_marriage_3</th>\n",
       "      <th>rate_marriage_4</th>\n",
       "      <th>rate_marriage_5</th>\n",
       "      <th>religious_2</th>\n",
       "      <th>religious_3</th>\n",
       "      <th>religious_4</th>\n",
       "      <th>occupation_2</th>\n",
       "      <th>occupation_3</th>\n",
       "      <th>occupation_4</th>\n",
       "      <th>occupation_5</th>\n",
       "      <th>occupation_6</th>\n",
       "    </tr>\n",
       "  </thead>\n",
       "  <tbody>\n",
       "    <tr>\n",
       "      <th>0</th>\n",
       "      <td>32.0</td>\n",
       "      <td>9.0</td>\n",
       "      <td>17.0</td>\n",
       "      <td>5</td>\n",
       "      <td>1</td>\n",
       "      <td>1</td>\n",
       "      <td>0</td>\n",
       "      <td>1</td>\n",
       "      <td>0</td>\n",
       "      <td>0</td>\n",
       "      <td>0</td>\n",
       "      <td>1</td>\n",
       "      <td>0</td>\n",
       "      <td>1</td>\n",
       "      <td>0</td>\n",
       "      <td>0</td>\n",
       "      <td>0</td>\n",
       "      <td>0</td>\n",
       "    </tr>\n",
       "    <tr>\n",
       "      <th>1</th>\n",
       "      <td>27.0</td>\n",
       "      <td>13.0</td>\n",
       "      <td>14.0</td>\n",
       "      <td>4</td>\n",
       "      <td>1</td>\n",
       "      <td>1</td>\n",
       "      <td>0</td>\n",
       "      <td>1</td>\n",
       "      <td>0</td>\n",
       "      <td>0</td>\n",
       "      <td>0</td>\n",
       "      <td>0</td>\n",
       "      <td>0</td>\n",
       "      <td>0</td>\n",
       "      <td>1</td>\n",
       "      <td>0</td>\n",
       "      <td>0</td>\n",
       "      <td>0</td>\n",
       "    </tr>\n",
       "    <tr>\n",
       "      <th>2</th>\n",
       "      <td>22.0</td>\n",
       "      <td>2.5</td>\n",
       "      <td>16.0</td>\n",
       "      <td>5</td>\n",
       "      <td>1</td>\n",
       "      <td>0</td>\n",
       "      <td>0</td>\n",
       "      <td>0</td>\n",
       "      <td>1</td>\n",
       "      <td>0</td>\n",
       "      <td>0</td>\n",
       "      <td>0</td>\n",
       "      <td>0</td>\n",
       "      <td>0</td>\n",
       "      <td>1</td>\n",
       "      <td>0</td>\n",
       "      <td>0</td>\n",
       "      <td>0</td>\n",
       "    </tr>\n",
       "    <tr>\n",
       "      <th>3</th>\n",
       "      <td>37.0</td>\n",
       "      <td>16.5</td>\n",
       "      <td>16.0</td>\n",
       "      <td>5</td>\n",
       "      <td>1</td>\n",
       "      <td>1</td>\n",
       "      <td>0</td>\n",
       "      <td>0</td>\n",
       "      <td>1</td>\n",
       "      <td>0</td>\n",
       "      <td>0</td>\n",
       "      <td>1</td>\n",
       "      <td>0</td>\n",
       "      <td>0</td>\n",
       "      <td>0</td>\n",
       "      <td>0</td>\n",
       "      <td>1</td>\n",
       "      <td>0</td>\n",
       "    </tr>\n",
       "    <tr>\n",
       "      <th>4</th>\n",
       "      <td>27.0</td>\n",
       "      <td>9.0</td>\n",
       "      <td>14.0</td>\n",
       "      <td>4</td>\n",
       "      <td>1</td>\n",
       "      <td>1</td>\n",
       "      <td>0</td>\n",
       "      <td>0</td>\n",
       "      <td>0</td>\n",
       "      <td>1</td>\n",
       "      <td>0</td>\n",
       "      <td>0</td>\n",
       "      <td>0</td>\n",
       "      <td>0</td>\n",
       "      <td>1</td>\n",
       "      <td>0</td>\n",
       "      <td>0</td>\n",
       "      <td>0</td>\n",
       "    </tr>\n",
       "  </tbody>\n",
       "</table>\n",
       "</div>"
      ],
      "text/plain": [
       "    age  yrs_married  educ  occupation_husb  affairs_group  child_group  \\\n",
       "0  32.0          9.0  17.0                5              1            1   \n",
       "1  27.0         13.0  14.0                4              1            1   \n",
       "2  22.0          2.5  16.0                5              1            0   \n",
       "3  37.0         16.5  16.0                5              1            1   \n",
       "4  27.0          9.0  14.0                4              1            1   \n",
       "\n",
       "   rate_marriage_2  rate_marriage_3  rate_marriage_4  rate_marriage_5  \\\n",
       "0                0                1                0                0   \n",
       "1                0                1                0                0   \n",
       "2                0                0                1                0   \n",
       "3                0                0                1                0   \n",
       "4                0                0                0                1   \n",
       "\n",
       "   religious_2  religious_3  religious_4  occupation_2  occupation_3  \\\n",
       "0            0            1            0             1             0   \n",
       "1            0            0            0             0             1   \n",
       "2            0            0            0             0             1   \n",
       "3            0            1            0             0             0   \n",
       "4            0            0            0             0             1   \n",
       "\n",
       "   occupation_4  occupation_5  occupation_6  \n",
       "0             0             0             0  \n",
       "1             0             0             0  \n",
       "2             0             0             0  \n",
       "3             0             1             0  \n",
       "4             0             0             0  "
      ]
     },
     "execution_count": 43,
     "metadata": {},
     "output_type": "execute_result"
    }
   ],
   "source": [
    "df3=pd.get_dummies(df2, columns=['rate_marriage', 'religious', 'occupation'], drop_first=True)\n",
    "df3.head()"
   ]
  },
  {
   "cell_type": "code",
   "execution_count": 44,
   "metadata": {},
   "outputs": [
    {
     "data": {
      "image/png": "[encoded data removed]",
      "text/plain": [
       "<matplotlib.figure.Figure at 0xea023c8>"
      ]
     },
     "metadata": {},
     "output_type": "display_data"
    }
   ],
   "source": [
    "sns.heatmap(df3.corr()[['affairs_group']],cmap='YlOrBr')\n",
    "plt.title('Correlation between probability of affair and marriage rating')\n",
    "plt.show()"
   ]
  },
  {
   "cell_type": "code",
   "execution_count": 45,
   "metadata": {},
   "outputs": [
    {
     "data": {
      "text/html": [
       "<div>\n",
       "<style>\n",
       "    .dataframe thead tr:only-child th {\n",
       "        text-align: right;\n",
       "    }\n",
       "\n",
       "    .dataframe thead th {\n",
       "        text-align: left;\n",
       "    }\n",
       "\n",
       "    .dataframe tbody tr th {\n",
       "        vertical-align: top;\n",
       "    }\n",
       "</style>\n",
       "<table border=\"1\" class=\"dataframe\">\n",
       "  <thead>\n",
       "    <tr style=\"text-align: right;\">\n",
       "      <th></th>\n",
       "      <th>affairs_group</th>\n",
       "    </tr>\n",
       "  </thead>\n",
       "  <tbody>\n",
       "    <tr>\n",
       "      <th>age</th>\n",
       "      <td>0.146519</td>\n",
       "    </tr>\n",
       "    <tr>\n",
       "      <th>yrs_married</th>\n",
       "      <td>0.203109</td>\n",
       "    </tr>\n",
       "    <tr>\n",
       "      <th>educ</th>\n",
       "      <td>-0.075280</td>\n",
       "    </tr>\n",
       "    <tr>\n",
       "      <th>occupation_husb</th>\n",
       "      <td>0.017637</td>\n",
       "    </tr>\n",
       "    <tr>\n",
       "      <th>affairs_group</th>\n",
       "      <td>1.000000</td>\n",
       "    </tr>\n",
       "    <tr>\n",
       "      <th>child_group</th>\n",
       "      <td>0.191515</td>\n",
       "    </tr>\n",
       "    <tr>\n",
       "      <th>rate_marriage_2</th>\n",
       "      <td>0.160799</td>\n",
       "    </tr>\n",
       "    <tr>\n",
       "      <th>rate_marriage_3</th>\n",
       "      <td>0.210025</td>\n",
       "    </tr>\n",
       "    <tr>\n",
       "      <th>rate_marriage_4</th>\n",
       "      <td>0.000681</td>\n",
       "    </tr>\n",
       "    <tr>\n",
       "      <th>rate_marriage_5</th>\n",
       "      <td>-0.257633</td>\n",
       "    </tr>\n",
       "    <tr>\n",
       "      <th>religious_2</th>\n",
       "      <td>0.061692</td>\n",
       "    </tr>\n",
       "    <tr>\n",
       "      <th>religious_3</th>\n",
       "      <td>-0.051279</td>\n",
       "    </tr>\n",
       "    <tr>\n",
       "      <th>religious_4</th>\n",
       "      <td>-0.102310</td>\n",
       "    </tr>\n",
       "    <tr>\n",
       "      <th>occupation_2</th>\n",
       "      <td>-0.024613</td>\n",
       "    </tr>\n",
       "    <tr>\n",
       "      <th>occupation_3</th>\n",
       "      <td>0.045729</td>\n",
       "    </tr>\n",
       "    <tr>\n",
       "      <th>occupation_4</th>\n",
       "      <td>-0.082706</td>\n",
       "    </tr>\n",
       "    <tr>\n",
       "      <th>occupation_5</th>\n",
       "      <td>0.073766</td>\n",
       "    </tr>\n",
       "    <tr>\n",
       "      <th>occupation_6</th>\n",
       "      <td>0.012559</td>\n",
       "    </tr>\n",
       "  </tbody>\n",
       "</table>\n",
       "</div>"
      ],
      "text/plain": [
       "                 affairs_group\n",
       "age                   0.146519\n",
       "yrs_married           0.203109\n",
       "educ                 -0.075280\n",
       "occupation_husb       0.017637\n",
       "affairs_group         1.000000\n",
       "child_group           0.191515\n",
       "rate_marriage_2       0.160799\n",
       "rate_marriage_3       0.210025\n",
       "rate_marriage_4       0.000681\n",
       "rate_marriage_5      -0.257633\n",
       "religious_2           0.061692\n",
       "religious_3          -0.051279\n",
       "religious_4          -0.102310\n",
       "occupation_2         -0.024613\n",
       "occupation_3          0.045729\n",
       "occupation_4         -0.082706\n",
       "occupation_5          0.073766\n",
       "occupation_6          0.012559"
      ]
     },
     "execution_count": 45,
     "metadata": {},
     "output_type": "execute_result"
    }
   ],
   "source": [
    "df3.corr()[['affairs_group']]"
   ]
  },
  {
   "cell_type": "code",
   "execution_count": 46,
   "metadata": {
    "collapsed": true
   },
   "outputs": [],
   "source": [
    "a = df3.iloc[:,:3]"
   ]
  },
  {
   "cell_type": "code",
   "execution_count": 47,
   "metadata": {
    "collapsed": true
   },
   "outputs": [],
   "source": [
    "b = df3.iloc[:,5:]"
   ]
  },
  {
   "cell_type": "code",
   "execution_count": 48,
   "metadata": {
    "collapsed": true
   },
   "outputs": [],
   "source": [
    "c = a.join(b)"
   ]
  },
  {
   "cell_type": "code",
   "execution_count": 49,
   "metadata": {},
   "outputs": [
    {
     "data": {
      "text/plain": [
       "Index([u'age', u'yrs_married', u'educ', u'child_group', u'rate_marriage_2',\n",
       "       u'rate_marriage_3', u'rate_marriage_4', u'rate_marriage_5',\n",
       "       u'religious_2', u'religious_3', u'religious_4', u'occupation_2',\n",
       "       u'occupation_3', u'occupation_4', u'occupation_5', u'occupation_6'],\n",
       "      dtype='object')"
      ]
     },
     "execution_count": 49,
     "metadata": {},
     "output_type": "execute_result"
    }
   ],
   "source": [
    "factors = c.columns\n",
    "factors"
   ]
  },
  {
   "cell_type": "code",
   "execution_count": 50,
   "metadata": {
    "collapsed": true
   },
   "outputs": [],
   "source": [
    "Xd=df3[factors]\n",
    "yd=df3['affairs_group']"
   ]
  },
  {
   "cell_type": "code",
   "execution_count": 51,
   "metadata": {
    "collapsed": true
   },
   "outputs": [],
   "source": [
    "X_train, X_test, y_train, y_test=train_test_split(Xd, yd)"
   ]
  },
  {
   "cell_type": "code",
   "execution_count": 52,
   "metadata": {},
   "outputs": [
    {
     "name": "stdout",
     "output_type": "stream",
     "text": [
      "*********************  KNN  ***************************\n",
      "\n",
      "Accuracy of KNN model: 0.689070351759\n",
      "\n",
      "Classification report for KNN model\n",
      "                   precision    recall  f1-score   support\n",
      "\n",
      "Not_having_affair       0.75      0.83      0.78      1091\n",
      "    Having_affair       0.51      0.39      0.44       501\n",
      "\n",
      "      avg / total       0.67      0.69      0.68      1592\n",
      "\n",
      "Confusion matrix for KNN model\n",
      "                   Not_having_affair  Having_affair\n",
      "Not_having_affair                903            188\n",
      "Having_affair                    307            194\n",
      "\n",
      "\n",
      "\n",
      "*********************  Logistic_Regression  ***************************\n",
      "\n",
      "Accuracy of Logistic_Regression model: 0.730527638191\n",
      "\n",
      "Classification report for Logistic_Regression model\n",
      "                   precision    recall  f1-score   support\n",
      "\n",
      "Not_having_affair       0.76      0.89      0.82      1091\n",
      "    Having_affair       0.61      0.39      0.48       501\n",
      "\n",
      "      avg / total       0.71      0.73      0.71      1592\n",
      "\n",
      "Confusion matrix for Logistic_Regression model\n",
      "                   Not_having_affair  Having_affair\n",
      "Not_having_affair                968            123\n",
      "Having_affair                    306            195\n",
      "\n",
      "            Factors      Coef\n",
      "15     occupation_6   2.63956\n",
      "14     occupation_5    2.4526\n",
      "12     occupation_3   1.62532\n",
      "3       child_group   1.50636\n",
      "13     occupation_4   1.28851\n",
      "11     occupation_2   1.19755\n",
      "1       yrs_married   1.09069\n",
      "2              educ   1.00933\n",
      "0               age  0.948073\n",
      "4   rate_marriage_2  0.796733\n",
      "8       religious_2  0.706342\n",
      "5   rate_marriage_3  0.528435\n",
      "9       religious_3  0.521778\n",
      "10      religious_4  0.259541\n",
      "6   rate_marriage_4  0.211746\n",
      "7   rate_marriage_5  0.105054\n",
      "\n",
      "*********************  Decision_Tree  ***************************\n",
      "\n",
      "Accuracy of Decision_Tree model: 0.692211055276\n",
      "\n",
      "Classification report for Decision_Tree model\n",
      "                   precision    recall  f1-score   support\n",
      "\n",
      "Not_having_affair       0.75      0.84      0.79      1091\n",
      "    Having_affair       0.51      0.38      0.44       501\n",
      "\n",
      "      avg / total       0.67      0.69      0.68      1592\n",
      "\n",
      "Confusion matrix for Decision_Tree model\n",
      "                   Not_having_affair  Having_affair\n",
      "Not_having_affair                912            179\n",
      "Having_affair                    311            190\n",
      "\n",
      "            Feature  Importance\n",
      "2              educ    0.174685\n",
      "1       yrs_married    0.158646\n",
      "0               age    0.126813\n",
      "7   rate_marriage_5    0.117925\n",
      "6   rate_marriage_4   0.0807337\n",
      "3       child_group   0.0625997\n",
      "9       religious_3     0.05492\n",
      "8       religious_2   0.0517212\n",
      "10      religious_4     0.03317\n",
      "13     occupation_4   0.0306193\n",
      "12     occupation_3   0.0290997\n",
      "14     occupation_5   0.0281546\n",
      "11     occupation_2   0.0232048\n",
      "4   rate_marriage_2    0.010242\n",
      "5   rate_marriage_3  0.00940349\n",
      "15     occupation_6   0.0080613\n",
      "\n",
      "*********************  Random_Forest  ***************************\n",
      "\n",
      "Accuracy of Random_Forest model: 0.69283919598\n",
      "\n",
      "Classification report for Random_Forest model\n",
      "                   precision    recall  f1-score   support\n",
      "\n",
      "Not_having_affair       0.76      0.80      0.78      1091\n",
      "    Having_affair       0.51      0.45      0.48       501\n",
      "\n",
      "      avg / total       0.68      0.69      0.69      1592\n",
      "\n",
      "Confusion matrix for Random_Forest model\n",
      "                   Not_having_affair  Having_affair\n",
      "Not_having_affair                876            215\n",
      "Having_affair                    274            227\n",
      "\n",
      "            Feature  Importance\n",
      "1       yrs_married    0.197261\n",
      "2              educ    0.182398\n",
      "0               age     0.15456\n",
      "7   rate_marriage_5    0.067667\n",
      "9       religious_3   0.0486871\n",
      "5   rate_marriage_3    0.047408\n",
      "8       religious_2   0.0472859\n",
      "3       child_group   0.0466819\n",
      "6   rate_marriage_4   0.0417387\n",
      "10      religious_4   0.0330622\n",
      "4   rate_marriage_2   0.0292239\n",
      "12     occupation_3   0.0269776\n",
      "13     occupation_4   0.0245895\n",
      "14     occupation_5   0.0230892\n",
      "11     occupation_2   0.0205913\n",
      "15     occupation_6  0.00877891\n",
      "\n"
     ]
    },
    {
     "data": {
      "image/png": "[encoded data removed]",
      "text/plain": [
       "<matplotlib.figure.Figure at 0xea028d0>"
      ]
     },
     "metadata": {},
     "output_type": "display_data"
    }
   ],
   "source": [
    "#KNN Model\n",
    "eval_model(neighbors.KNeighborsClassifier(),'KNN',xtrain=X_train,xtest=X_test,ytrain=y_train,ytest=y_test)\n",
    "#Logistic Regression model\n",
    "eval_model(linear_model.LogisticRegressionCV(cv=5), 'Logistic_Regression',xtrain=X_train,xtest=X_test,ytrain=y_train,ytest=y_test)\n",
    "#Decision Tree model\n",
    "eval_model(tree.DecisionTreeClassifier(),'Decision_Tree',xtrain=X_train,xtest=X_test,ytrain=y_train,ytest=y_test)\n",
    "#Random Forest\n",
    "eval_model(ensemble.RandomForestClassifier(n_estimators=50),'Random_Forest',xtrain=X_train,xtest=X_test,ytrain=y_train,ytest=y_test)"
   ]
  },
  {
   "cell_type": "markdown",
   "metadata": {},
   "source": [
    "Not much of difference in accuracy even with dummies generated on rate_marriage, religious and occupation"
   ]
  }
 ],
 "metadata": {
  "kernelspec": {
   "display_name": "Python 2",
   "language": "python",
   "name": "python2"
  },
  "language_info": {
   "codemirror_mode": {
    "name": "ipython",
    "version": 2
   },
   "file_extension": ".py",
   "mimetype": "text/x-python",
   "name": "python",
   "nbconvert_exporter": "python",
   "pygments_lexer": "ipython2",
   "version": "2.7.13"
  }
 },
 "nbformat": 4,
 "nbformat_minor": 2
}
